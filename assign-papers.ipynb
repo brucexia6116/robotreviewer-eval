{
 "cells": [
  {
   "cell_type": "code",
   "execution_count": 1,
   "metadata": {
    "collapsed": true
   },
   "outputs": [],
   "source": [
    "import random\n",
    "\n",
    "import numpy as np\n",
    "import pandas as pd"
   ]
  },
  {
   "cell_type": "code",
   "execution_count": 2,
   "metadata": {
    "collapsed": false
   },
   "outputs": [
    {
     "data": {
      "text/html": [
       "<div>\n",
       "<table border=\"1\" class=\"dataframe\">\n",
       "  <thead>\n",
       "    <tr style=\"text-align: right;\">\n",
       "      <th></th>\n",
       "      <th>Extractor</th>\n",
       "      <th>PMID</th>\n",
       "      <th>Title</th>\n",
       "      <th>Year</th>\n",
       "      <th>Author</th>\n",
       "      <th>Unnamed: 5</th>\n",
       "      <th>Unnamed: 6</th>\n",
       "      <th>Unnamed: 7</th>\n",
       "      <th>Unnamed: 8</th>\n",
       "      <th>Unnamed: 9</th>\n",
       "      <th>...</th>\n",
       "      <th>Unnamed: 22</th>\n",
       "      <th>Unnamed: 23</th>\n",
       "      <th>Unnamed: 24</th>\n",
       "      <th>Unnamed: 25</th>\n",
       "      <th>Unnamed: 26</th>\n",
       "      <th>Unnamed: 27</th>\n",
       "      <th>Unnamed: 28</th>\n",
       "      <th>Unnamed: 29</th>\n",
       "      <th>Unnamed: 30</th>\n",
       "      <th>Unnamed: 31</th>\n",
       "    </tr>\n",
       "  </thead>\n",
       "  <tbody>\n",
       "    <tr>\n",
       "      <th>0</th>\n",
       "      <td>gpadam (Gaelen Adam)</td>\n",
       "      <td>18717680</td>\n",
       "      <td>Fractionated 5-aminolaevulinic acid-photodynam...</td>\n",
       "      <td>2008</td>\n",
       "      <td>Mosterd K., Thissen MR., Nelemans P., Kellener...</td>\n",
       "      <td>NaN</td>\n",
       "      <td>NaN</td>\n",
       "      <td>NaN</td>\n",
       "      <td>NaN</td>\n",
       "      <td>NaN</td>\n",
       "      <td>...</td>\n",
       "      <td>NaN</td>\n",
       "      <td>NaN</td>\n",
       "      <td>NaN</td>\n",
       "      <td>NaN</td>\n",
       "      <td>NaN</td>\n",
       "      <td>NaN</td>\n",
       "      <td>NaN</td>\n",
       "      <td>NaN</td>\n",
       "      <td>NaN</td>\n",
       "      <td>NaN</td>\n",
       "    </tr>\n",
       "    <tr>\n",
       "      <th>1</th>\n",
       "      <td>vlangber (Valerie Langberg)</td>\n",
       "      <td>21242584</td>\n",
       "      <td>Comparison of imiquimod 5% cream versus radiot...</td>\n",
       "      <td>2011</td>\n",
       "      <td>Garcia-Martin E., Gil-Arribas LM., Idoipe M., ...</td>\n",
       "      <td>NaN</td>\n",
       "      <td>NaN</td>\n",
       "      <td>NaN</td>\n",
       "      <td>NaN</td>\n",
       "      <td>NaN</td>\n",
       "      <td>...</td>\n",
       "      <td>NaN</td>\n",
       "      <td>NaN</td>\n",
       "      <td>NaN</td>\n",
       "      <td>NaN</td>\n",
       "      <td>NaN</td>\n",
       "      <td>NaN</td>\n",
       "      <td>NaN</td>\n",
       "      <td>NaN</td>\n",
       "      <td>NaN</td>\n",
       "      <td>NaN</td>\n",
       "    </tr>\n",
       "    <tr>\n",
       "      <th>2</th>\n",
       "      <td>vlangber (Valerie Langberg)</td>\n",
       "      <td>17610993</td>\n",
       "      <td>A phase III, randomized, open label study to e...</td>\n",
       "      <td>2007</td>\n",
       "      <td>Eigentler TK., Kamin A., Weide BM., Breuninger...</td>\n",
       "      <td>NaN</td>\n",
       "      <td>NaN</td>\n",
       "      <td>NaN</td>\n",
       "      <td>NaN</td>\n",
       "      <td>NaN</td>\n",
       "      <td>...</td>\n",
       "      <td>NaN</td>\n",
       "      <td>NaN</td>\n",
       "      <td>NaN</td>\n",
       "      <td>NaN</td>\n",
       "      <td>NaN</td>\n",
       "      <td>NaN</td>\n",
       "      <td>NaN</td>\n",
       "      <td>NaN</td>\n",
       "      <td>NaN</td>\n",
       "      <td>NaN</td>\n",
       "    </tr>\n",
       "    <tr>\n",
       "      <th>3</th>\n",
       "      <td>amdrucker (Aaron Drucker)</td>\n",
       "      <td>1430394</td>\n",
       "      <td>The effect of intralesional 5-Fluorouracil The...</td>\n",
       "      <td>1992</td>\n",
       "      <td>Orenberg EK et al</td>\n",
       "      <td>NaN</td>\n",
       "      <td>NaN</td>\n",
       "      <td>NaN</td>\n",
       "      <td>NaN</td>\n",
       "      <td>NaN</td>\n",
       "      <td>...</td>\n",
       "      <td>NaN</td>\n",
       "      <td>NaN</td>\n",
       "      <td>NaN</td>\n",
       "      <td>NaN</td>\n",
       "      <td>NaN</td>\n",
       "      <td>NaN</td>\n",
       "      <td>NaN</td>\n",
       "      <td>NaN</td>\n",
       "      <td>NaN</td>\n",
       "      <td>NaN</td>\n",
       "    </tr>\n",
       "    <tr>\n",
       "      <th>4</th>\n",
       "      <td>gpadam (Gaelen Adam)</td>\n",
       "      <td>22385074</td>\n",
       "      <td>Imiquimod 5% cream as pretreatment of Mohs mic...</td>\n",
       "      <td>2012</td>\n",
       "      <td>van der Geer S., Martens J., van Roij J., Bran...</td>\n",
       "      <td>NaN</td>\n",
       "      <td>NaN</td>\n",
       "      <td>NaN</td>\n",
       "      <td>NaN</td>\n",
       "      <td>NaN</td>\n",
       "      <td>...</td>\n",
       "      <td>NaN</td>\n",
       "      <td>NaN</td>\n",
       "      <td>NaN</td>\n",
       "      <td>NaN</td>\n",
       "      <td>NaN</td>\n",
       "      <td>NaN</td>\n",
       "      <td>NaN</td>\n",
       "      <td>NaN</td>\n",
       "      <td>NaN</td>\n",
       "      <td>NaN</td>\n",
       "    </tr>\n",
       "  </tbody>\n",
       "</table>\n",
       "<p>5 rows × 32 columns</p>\n",
       "</div>"
      ],
      "text/plain": [
       "                     Extractor      PMID  \\\n",
       "0         gpadam (Gaelen Adam)  18717680   \n",
       "1  vlangber (Valerie Langberg)  21242584   \n",
       "2  vlangber (Valerie Langberg)  17610993   \n",
       "3    amdrucker (Aaron Drucker)   1430394   \n",
       "4         gpadam (Gaelen Adam)  22385074   \n",
       "\n",
       "                                               Title  Year  \\\n",
       "0  Fractionated 5-aminolaevulinic acid-photodynam...  2008   \n",
       "1  Comparison of imiquimod 5% cream versus radiot...  2011   \n",
       "2  A phase III, randomized, open label study to e...  2007   \n",
       "3  The effect of intralesional 5-Fluorouracil The...  1992   \n",
       "4  Imiquimod 5% cream as pretreatment of Mohs mic...  2012   \n",
       "\n",
       "                                              Author  Unnamed: 5  Unnamed: 6  \\\n",
       "0  Mosterd K., Thissen MR., Nelemans P., Kellener...         NaN         NaN   \n",
       "1  Garcia-Martin E., Gil-Arribas LM., Idoipe M., ...         NaN         NaN   \n",
       "2  Eigentler TK., Kamin A., Weide BM., Breuninger...         NaN         NaN   \n",
       "3                                  Orenberg EK et al         NaN         NaN   \n",
       "4  van der Geer S., Martens J., van Roij J., Bran...         NaN         NaN   \n",
       "\n",
       "   Unnamed: 7  Unnamed: 8  Unnamed: 9     ...       Unnamed: 22  Unnamed: 23  \\\n",
       "0         NaN         NaN         NaN     ...               NaN          NaN   \n",
       "1         NaN         NaN         NaN     ...               NaN          NaN   \n",
       "2         NaN         NaN         NaN     ...               NaN          NaN   \n",
       "3         NaN         NaN         NaN     ...               NaN          NaN   \n",
       "4         NaN         NaN         NaN     ...               NaN          NaN   \n",
       "\n",
       "   Unnamed: 24  Unnamed: 25  Unnamed: 26  Unnamed: 27  Unnamed: 28  \\\n",
       "0          NaN          NaN          NaN          NaN          NaN   \n",
       "1          NaN          NaN          NaN          NaN          NaN   \n",
       "2          NaN          NaN          NaN          NaN          NaN   \n",
       "3          NaN          NaN          NaN          NaN          NaN   \n",
       "4          NaN          NaN          NaN          NaN          NaN   \n",
       "\n",
       "   Unnamed: 29  Unnamed: 30  Unnamed: 31  \n",
       "0          NaN          NaN          NaN  \n",
       "1          NaN          NaN          NaN  \n",
       "2          NaN          NaN          NaN  \n",
       "3          NaN          NaN          NaN  \n",
       "4          NaN          NaN          NaN  \n",
       "\n",
       "[5 rows x 32 columns]"
      ]
     },
     "execution_count": 2,
     "metadata": {},
     "output_type": "execute_result"
    }
   ],
   "source": [
    "extractors = pd.read_csv(\"NMSC.extractors.csv\", encoding='utf-8')\n",
    "extractors.head()"
   ]
  },
  {
   "cell_type": "code",
   "execution_count": 3,
   "metadata": {
    "collapsed": false,
    "scrolled": true
   },
   "outputs": [
    {
     "name": "stdout",
     "output_type": "stream",
     "text": [
      "{'vlangber', 'gpadam', 'bryantadmin', 'amdrucker', 'agazula', 'famousta'}\n"
     ]
    }
   ],
   "source": [
    "people = set([p.split(\" \")[0] for p in extractors[\"Extractor\"].unique()])\n",
    "print(people) # TODO? add tom?"
   ]
  },
  {
   "cell_type": "code",
   "execution_count": 4,
   "metadata": {
    "collapsed": false
   },
   "outputs": [
    {
     "data": {
      "text/plain": [
       "'12224977-12 week'"
      ]
     },
     "execution_count": 4,
     "metadata": {},
     "output_type": "execute_result"
    }
   ],
   "source": [
    "extractors.loc[25, \"PMID\"]"
   ]
  },
  {
   "cell_type": "code",
   "execution_count": 5,
   "metadata": {
    "collapsed": false
   },
   "outputs": [
    {
     "name": "stdout",
     "output_type": "stream",
     "text": [
      "['18717680' '21242584' '17610993' '1430394' '22385074' '9218740' '8996264'\n",
      " '298425' '2107219' '2229497' '3514075' '2383027' '8977678' '10570388'\n",
      " '10940063' '11298545' '11312429' '17451581' nan '24102369' '19010733'\n",
      " '12653747' '23683751' '12452875' '14732655' '12224977' '7999616'\n",
      " '12224977 - 6 week' '12196749' '15097956' '15606733' '16785375' '25899562'\n",
      " '25047438' '26353121' '20546215' '23566745' '19018814' '25981810'\n",
      " '22511036' '27067393' '15888150' '16393600' '16713457' '17573890'\n",
      " '18624836' '20064185' '26551044' '16865869' '15377354' '26157307'\n",
      " '24903544' '8708151' '24332516']\n"
     ]
    }
   ],
   "source": [
    "extractors.loc[25, \"PMID\"] = '12224977' # rename the weird 12224977-12 week to just the PMID\n",
    "papers = extractors[\"PMID\"].unique()\n",
    "print(papers)"
   ]
  },
  {
   "cell_type": "markdown",
   "metadata": {},
   "source": [
    "## Assigning papers to individuals\n",
    "Sampling desiderata: \n",
    "* Each paper should be assessed once with RR and once without (so, obviously, twice in all).\n",
    "* Each reviewer should get about the same number of papers using and not using RR."
   ]
  },
  {
   "cell_type": "code",
   "execution_count": 6,
   "metadata": {
    "collapsed": false
   },
   "outputs": [],
   "source": [
    "def who_already_reviewed(paper_id):\n",
    "    try:\n",
    "        already_reviewed = extractors[extractors[\"PMID\"]==paper_id][\"Extractor\"].values[0].split(\" \")[0]\n",
    "        return set([already_reviewed])\n",
    "    except:\n",
    "        print(\"warning! could not find existing record for paper: {0}\".format(paper_id))\n",
    "        return set([])\n",
    "    \n",
    "class Assignment:\n",
    "    def __init__(self, paper_id, person_id, use_rr):\n",
    "        self.paper_id  = paper_id\n",
    "        self.person_id = person_id\n",
    "        self.rr        = use_rr\n",
    "    \n",
    "    def __str__(self):\n",
    "        return \"{0}, {1}, {2}\".format(self.paper_id, self.person_id, self.rr)\n",
    "        \n",
    "def assign_reviewers_to_papers(paper_ids, person_ids, max_attempts=5000):\n",
    "    ''' \n",
    "    assign all papers in paper_ids to folks in person_ids, \n",
    "       while respecting constraints stated above.\n",
    "    '''\n",
    "    expected_work = (2*len(paper_ids))/(len(person_ids)-1) \n",
    "    print(\"{0} workers; {1} papers\".format(len(person_ids), len(paper_ids)))\n",
    "    print(\"expected workload per person: {0}\".format(expected_work))\n",
    "\n",
    "    def check_assignments(assignments, plus_minus_workload=3, plus_minus_rr_frac=.15):\n",
    "        workloads, with_rr = {}, {}\n",
    "        for p in person_ids: \n",
    "            workloads[p] = 0\n",
    "            with_rr[p] = 0\n",
    "        \n",
    "        for assignment in assignments:\n",
    "            workloads[assignment.person_id] += 1\n",
    "            if assignment.rr:\n",
    "                with_rr[assignment.person_id] += 1\n",
    "        \n",
    "        ####################################################################\n",
    "        # no one should receive > +/-plus_minus_workload the expected load #\n",
    "        ####################################################################\n",
    "        if (expected_work - min(workloads.values())) > plus_minus_workload or (\n",
    "                    max(workloads.values()) - expected_work) > plus_minus_workload:\n",
    "            print(\"failure due to workload imbalance!\")\n",
    "            print(workloads)\n",
    "            \n",
    "            return False \n",
    "\n",
    "        ###########################################################\n",
    "        # frac of rr/non rr should be roughly balanced per person #\n",
    "        ###########################################################\n",
    "        for person in with_rr:\n",
    "            cur_frac = with_rr[person]/workloads[person]\n",
    "            if not ((0.5 - plus_minus_rr_frac) < cur_frac < (0.5 + plus_minus_rr_frac)):\n",
    "                print(\"failure due to w/rr fraction!\")\n",
    "                print(\"{0} had {1}% assignments using RR\".format(person, cur_frac))\n",
    "                return False \n",
    "        \n",
    "        #import pdb; pdb.set_trace()\n",
    "        print(\"success!\")\n",
    "        print(workloads)\n",
    "  \n",
    "        return True\n",
    "        \n",
    "    # use a really stupid generate-and-check approach\n",
    "    count = 1\n",
    "    while True:\n",
    "        print(\"on attempt {0}\".format(count))\n",
    "        assignments = []\n",
    "        for paper_id in paper_ids:\n",
    "            # generate two assignments\n",
    "            #print(paper_id)\n",
    "            cur_people_ids = random.sample(people - who_already_reviewed(paper_id), 2)\n",
    "            # the first assignment will be with RR. \n",
    "            # so just in case...\n",
    "            random.shuffle(cur_people_ids)\n",
    "            for i, cur_person_id in enumerate(cur_people_ids):\n",
    "                cur_assignment = Assignment(paper_id, cur_person_id, i<1)\n",
    "                assignments.append(cur_assignment)\n",
    "            \n",
    "        if check_assignments(assignments):\n",
    "            return assignments\n",
    "        \n",
    "        count += 1\n",
    "        \n",
    "        if count > max_attempts:\n",
    "            print(\"failed to find assignment in {0} tries\".format(max_attempts))\n",
    "            break \n",
    "            "
   ]
  },
  {
   "cell_type": "code",
   "execution_count": 7,
   "metadata": {
    "collapsed": false
   },
   "outputs": [
    {
     "name": "stdout",
     "output_type": "stream",
     "text": [
      "warning! could not find existing record for paper: 17875873\n"
     ]
    },
    {
     "data": {
      "text/plain": [
       "set()"
      ]
     },
     "execution_count": 7,
     "metadata": {},
     "output_type": "execute_result"
    }
   ],
   "source": [
    "who_already_reviewed(\"17875873\")"
   ]
  },
  {
   "cell_type": "code",
   "execution_count": 8,
   "metadata": {
    "collapsed": false
   },
   "outputs": [
    {
     "name": "stdout",
     "output_type": "stream",
     "text": [
      "6 workers; 15 papers\n",
      "expected workload per person: 6.0\n",
      "on attempt 1\n",
      "warning! could not find existing record for paper: 17875873\n",
      "failure due to w/rr fraction!\n",
      "gpadam had 1.0% assignments using RR\n",
      "on attempt 2\n",
      "warning! could not find existing record for paper: 17875873\n",
      "failure due to w/rr fraction!\n",
      "amdrucker had 0.25% assignments using RR\n",
      "on attempt 3\n",
      "warning! could not find existing record for paper: 17875873\n",
      "failure due to workload imbalance!\n",
      "{'vlangber': 6, 'agazula': 4, 'gpadam': 6, 'amdrucker': 2, 'bryantadmin': 5, 'famousta': 7}\n",
      "on attempt 4\n",
      "warning! could not find existing record for paper: 17875873\n",
      "failure due to w/rr fraction!\n",
      "vlangber had 0.75% assignments using RR\n",
      "on attempt 5\n",
      "warning! could not find existing record for paper: 17875873\n",
      "failure due to workload imbalance!\n",
      "{'vlangber': 6, 'agazula': 7, 'gpadam': 3, 'amdrucker': 2, 'bryantadmin': 5, 'famousta': 7}\n",
      "on attempt 6\n",
      "warning! could not find existing record for paper: 17875873\n",
      "failure due to workload imbalance!\n",
      "{'vlangber': 5, 'agazula': 4, 'gpadam': 6, 'amdrucker': 2, 'bryantadmin': 8, 'famousta': 5}\n",
      "on attempt 7\n",
      "warning! could not find existing record for paper: 17875873\n",
      "failure due to workload imbalance!\n",
      "{'vlangber': 8, 'agazula': 6, 'gpadam': 0, 'amdrucker': 6, 'bryantadmin': 5, 'famousta': 5}\n",
      "on attempt 8\n",
      "warning! could not find existing record for paper: 17875873\n",
      "failure due to w/rr fraction!\n",
      "vlangber had 0.25% assignments using RR\n",
      "on attempt 9\n",
      "warning! could not find existing record for paper: 17875873\n",
      "failure due to w/rr fraction!\n",
      "vlangber had 0.2% assignments using RR\n",
      "on attempt 10\n",
      "warning! could not find existing record for paper: 17875873\n",
      "failure due to workload imbalance!\n",
      "{'vlangber': 3, 'agazula': 7, 'gpadam': 7, 'amdrucker': 4, 'bryantadmin': 2, 'famousta': 7}\n",
      "on attempt 11\n",
      "warning! could not find existing record for paper: 17875873\n",
      "failure due to workload imbalance!\n",
      "{'vlangber': 5, 'agazula': 2, 'gpadam': 5, 'amdrucker': 3, 'bryantadmin': 8, 'famousta': 7}\n",
      "on attempt 12\n",
      "warning! could not find existing record for paper: 17875873\n",
      "failure due to workload imbalance!\n",
      "{'vlangber': 2, 'agazula': 2, 'gpadam': 4, 'amdrucker': 3, 'bryantadmin': 9, 'famousta': 10}\n",
      "on attempt 13\n",
      "warning! could not find existing record for paper: 17875873\n",
      "success!\n",
      "{'vlangber': 7, 'agazula': 5, 'gpadam': 5, 'amdrucker': 3, 'bryantadmin': 6, 'famousta': 4}\n"
     ]
    }
   ],
   "source": [
    "papers_for_assignment = [\"11298545\", \"11312429\", \"12224977\", \"12452875\", \"12653747\", \"17875873\", \"14732655\", \"15097956\", \n",
    "                         \"12196749\", \"15377354\", \"15606733\", \"15888150\", \"16393600\", \"16713457\", \"16785375\"]\n",
    "assignments = assign_reviewers_to_papers(papers_for_assignment, people)"
   ]
  },
  {
   "cell_type": "code",
   "execution_count": null,
   "metadata": {
    "collapsed": false
   },
   "outputs": [],
   "source": [
    "assignments = assign_reviewers_to_papers(papers, people)\n",
    "all_people = people\n",
    "workloads, with_rr = {}, {}\n",
    "for p in all_people: \n",
    "    workloads[p] = 0\n",
    "    with_rr[p] = 0\n",
    "\n",
    "for assignment in assignments:\n",
    "    workloads[assignment.person_id] += 1\n",
    "    if assignment.rr:\n",
    "        with_rr[assignment.person_id] += 1\n"
   ]
  },
  {
   "cell_type": "code",
   "execution_count": 9,
   "metadata": {
    "collapsed": false
   },
   "outputs": [
    {
     "name": "stdout",
     "output_type": "stream",
     "text": [
      "11298545, agazula, True\n",
      "11298545, gpadam, False\n",
      "11312429, bryantadmin, True\n",
      "11312429, famousta, False\n",
      "12224977, agazula, True\n",
      "12224977, gpadam, False\n",
      "12452875, vlangber, True\n",
      "12452875, bryantadmin, False\n",
      "12653747, gpadam, True\n",
      "12653747, agazula, False\n",
      "17875873, vlangber, True\n",
      "17875873, agazula, False\n",
      "14732655, vlangber, True\n",
      "14732655, bryantadmin, False\n",
      "15097956, agazula, True\n",
      "15097956, vlangber, False\n",
      "12196749, bryantadmin, True\n",
      "12196749, vlangber, False\n",
      "15377354, gpadam, True\n",
      "15377354, amdrucker, False\n",
      "15606733, amdrucker, True\n",
      "15606733, vlangber, False\n",
      "15888150, famousta, True\n",
      "15888150, vlangber, False\n",
      "16393600, famousta, True\n",
      "16393600, gpadam, False\n",
      "16713457, bryantadmin, True\n",
      "16713457, famousta, False\n",
      "16785375, amdrucker, True\n",
      "16785375, bryantadmin, False\n"
     ]
    }
   ],
   "source": [
    "for a in assignments:\n",
    "    print(a)"
   ]
  },
  {
   "cell_type": "code",
   "execution_count": 13,
   "metadata": {
    "collapsed": false
   },
   "outputs": [],
   "source": [
    "out_str = [\"PMID, reviewer, use RR?\"]\n",
    "for a in assignments:\n",
    "    out_str.append(str(a))\n",
    "    \n",
    "with open(\"assignments.csv\", 'w') as outf:\n",
    "    outf.write(\"\\n\".join(out_str))\n"
   ]
  },
  {
   "cell_type": "code",
   "execution_count": null,
   "metadata": {
    "collapsed": true
   },
   "outputs": [],
   "source": []
  }
 ],
 "metadata": {
  "kernelspec": {
   "display_name": "Python 3",
   "language": "python",
   "name": "python3"
  },
  "language_info": {
   "codemirror_mode": {
    "name": "ipython",
    "version": 3
   },
   "file_extension": ".py",
   "mimetype": "text/x-python",
   "name": "python",
   "nbconvert_exporter": "python",
   "pygments_lexer": "ipython3",
   "version": "3.4.4"
  }
 },
 "nbformat": 4,
 "nbformat_minor": 0
}
